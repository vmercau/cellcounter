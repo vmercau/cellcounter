{
  "nbformat": 4,
  "nbformat_minor": 0,
  "metadata": {
    "colab": {
      "provenance": [],
      "collapsed_sections": [
        "sKxr1q8tKrhS"
      ]
    },
    "kernelspec": {
      "name": "python3",
      "display_name": "Python 3"
    },
    "language_info": {
      "name": "python"
    }
  },
  "cells": [
    {
      "cell_type": "markdown",
      "source": [
        "#Guia 1"
      ],
      "metadata": {
        "id": "oCch1iekVXWV"
      }
    },
    {
      "cell_type": "markdown",
      "source": [
        "##Ejercicio 1: Oscilador de van der pol\n",
        "\n",
        "El oscilador de Van der Pol fue propuesto originalmente por el ingeniero eléctrico y físico holandés Balthasar van der Pol cuando trabajaba en Philips. Van der Pol descubrió oscilaciones estables, que posteriormente denominó oscilaciones de relajación y que ahora se conocen como un tipo de ciclo límite, en circuitos eléctricos que emplean tubos de vacío. Cuando estos circuitos se conducen cerca del ciclo límite, se arrastran, es decir, la señal de conducción arrastra la corriente con ella. Van der Pol y su colega, van der Mark, publicaron en  Nature que a determinadas frecuencias de accionamiento se oía un ruido irregular, que más tarde se descubrió que era el resultado de un caos determinista. ([Van der Pol, 1927](https://doi.org/10.1038%2F120363a0))\n",
        "\n",
        "La ecuación de Van der Pol tiene una larga historia de uso tanto en las ciencias físicas como en las biológicas. Por ejemplo, en biología, Fitzhugh y Nagumo extendieron la ecuación en un campo plano como modelo para los potenciales de acción de las neuronas. La ecuación también se ha utilizado en sismología para modelizar las dos placas de una falla geológica y en estudios de fonación para modelizar los osciladores de las cuerdas vocales derecha e izquierda.\n",
        "\n",
        "La ecuación del oscilador de Van der Pol es:\n",
        "\n",
        "\n",
        "$$\\ddot{x} + \\alpha (x^2 - 1 ) \\dot{x} + x = 0$$\n",
        "\n",
        "\n",
        "a) Reescriba la ecuación como una ecuación de primer orden para dos variables $u$ y $v$.\n",
        "\n",
        "b) En el caso con $\\alpha = 0$ encuentre la expresión de la energía (puede hacerlo a partir de la física o como una integral primera de la ecuación). A partir de la energía obtenida anteriormente obtenga la ecuación de balance en el caso general $\\left( \\frac{dE}{dt} = g(x,\\dot{x},t) \\right)$.  \n",
        "\n",
        "b) Escriba un integrador usando el método de Runge-Kutta de cuarto orden como una función que tome como entrada una función $f$ (derivada temporal de $x = (u,v)$), una condición inicial $x_0$ y $\\alpha$ y devuelva la evolución.  \n",
        "\n",
        "c) Integre con las condiciones $\\alpha = 0.5 , 1.5$ y $3$ por un tiempo total de $5$. Use la ecuación de balance para elegir un $dt$ que sea bueno para todos los casos (Utilice las funciones que les proveemos. adaptandolas para el caso. Una diferencia de un $\\sim 1 \\%$ con respecto a la energía inicial es aceptable). Grafique $x(t)$, $\\dot{x}(t)$ y el diagrama de fases. ¿Cómo relaciona las trayectorias con el balance en función del tiempo?  Describa qué tipos de movimientos presenta el sistema.\n",
        "\n",
        "e) Utilice la herramienta _odeint_ de scipy para integrar tanto en las condiciones del punto $c$. Analice la elección de intervalos temporales."
      ],
      "metadata": {
        "id": "N5DqY8giVa1t"
      }
    },
    {
      "cell_type": "markdown",
      "source": [
        "a) Celda para realizar el punto a"
      ],
      "metadata": {
        "id": "6uHtC7xfPeC8"
      }
    },
    {
      "cell_type": "code",
      "execution_count": null,
      "metadata": {
        "id": "8QQMZOgWVVKv"
      },
      "outputs": [],
      "source": [
        "#Celda para punto b\n",
        ""
      ]
    },
    {
      "cell_type": "code",
      "source": [
        "#Instalamos findiff para la función del balance\n",
        "!pip install findiff"
      ],
      "metadata": {
        "id": "oRjuYb6nnN3D"
      },
      "execution_count": null,
      "outputs": []
    },
    {
      "cell_type": "code",
      "source": [
        "from findiff import FinDiff\n",
        "\n",
        "def Energy(u,v,params):\n",
        "  '''\n",
        "  Esta función recibe u (x) y v (dx/dt) junto con los parámetros\n",
        "  de la ecuación y devuelve la expresión de la energía\n",
        "  '''\n",
        "  return\n",
        "\n",
        "def dEdt(u,v,params):\n",
        "  '''\n",
        "  Esta función recibe u (x) y v (dx/dt) junto con los parámetros\n",
        "  de la ecuación y devuelve la teórica de la derivada de la energía\n",
        "  '''\n",
        "  return\n",
        "\n",
        "\n",
        "def balance(Energy, dEdt, u, v, dt, params):\n",
        "  '''\n",
        "  Esta función recibe u (x), v (dx/dt), parametros extra y\n",
        "  las funciónes de la energía y su derivada. Devuelve un vector\n",
        "  de balance que tiene la diferencia de la energía del sistema\n",
        "  en cada tiempo con respecto al valor teórico normalizado por\n",
        "  el valor inicial de la energía.\n",
        "  '''\n",
        "  E = Energy(u,v,params)\n",
        "  d_dt = FinDiff(0, dt, acc=6)\n",
        "  dE   = d_dt(E)\n",
        "  dEt  = dEdt(u,v,params)\n",
        "  return dt* (dE - dEt)/E[0]"
      ],
      "metadata": {
        "id": "EZVCR5genbXX"
      },
      "execution_count": null,
      "outputs": []
    },
    {
      "cell_type": "markdown",
      "source": [
        "##Ejercicio 2: Oscilador de Duffing\n",
        "\n",
        "El oscilador de Duffing, llamado así a partir de Georg Duffing (1861–1944) es una ecuación diferencial de segundo orden que sirve para modelar osciladores forzados y amortiguados.\n",
        "\n",
        "$$\\ddot{x}+\\delta \\dot{x}+ \\beta x+ \\alpha x^3=\\gamma \\cos (\\omega t)$$\n",
        "\n",
        "\n",
        "Donde:\n",
        "\n",
        "\n",
        "*   $\\delta$ es que tan intenso es el amortiguamiento\n",
        "*   $\\beta$ la dureza del \"resorte\" ($k/m$ que utilizamos normalmente)\n",
        "*   $\\alpha$ es el parámetro no lineal. Si $\\beta = 0$ tenemos un resorte con amortiguamiento normal. Si $\\beta>0$ es un resorte endurecido y $\\beta<0$ uno ablandado\n",
        "*   $\\gamma$ es la amplitud del forzado\n",
        "*   $\\omega$ es la amplitud del forzado\n",
        "\n",
        "a) Reescriba la ecuación como un sistema de primer orden para dos variables $(u,v)$.\n",
        "\n",
        "b) Para el caso sin forzado y no disipativo encuentre la expresión de la energía. Encuentre los puntos de equilibrio del sistema en función de los parámetros. Calcule la derivada de la energía (dada la definición anterior) en función del tiempo en el caso general (con forzado y disipativa) para obtener la ecuación de balance.\n",
        "\n",
        "c) Escriba un integrador usando Runge-Kutta de cuarto orden (llamelo RK4_duffing) que tome como entrada una función $f$ (derivada temporal de $x = (u,v)$), una condición inicial $x_0$ y los parámetros de la ecuación y devuelva la evolución.\n",
        "\n",
        "d) Usando $\\alpha = 1$, $\\beta  =  1$, $\\gamma =  0$ y  $\\delta =  0$, integre la ecuación por un tiempo $T=20$ para varias condiciones iniciales. Use la conservación de la energía para elegir un paso temporal tal que esta se conserve.\n",
        "\n",
        "e) Ahora integre eligiendo condiciones iniciales convenientemente tal que, al graficar las trayectorias juntas, representen bien el diagrama de fases (Sugerencia: marque los puntos de equilibrio y que hayan trayectorias alrededor). Compare con el caso $\\alpha = 1$, $\\beta  =  -1$, $\\gamma =  0$,  $\\delta =  0$. ¿Qué tipo de bifurcación encuentra?\n",
        "\n",
        "f) Repita el punto anterior usando $\\delta =  0.1$. ¿Es necesario modificar el dt que eligió o realizar un estudio con la ecuación de balance? Justifique.\n",
        "\n",
        "g) Repita el punto (e) usando $\\delta = 0.22$, $\\omega=1$ y $\\gamma = 0.3$. Describa lo que encuentra.\n",
        "\n",
        "h) (Opcional) Integre con los parámetros del punto anterior con $\\gamma=0$. Ahora use $\\gamma=0.3$, aumente progresivamente la frecuencia del forzado. Describa lo que encuentra. (Pista: Estamos viendo evidencia _averaging theorem_)\n",
        "\n"
      ],
      "metadata": {
        "id": "PbLWP-qhYL0N"
      }
    },
    {
      "cell_type": "markdown",
      "source": [
        "a) Celda para realizar el punto a"
      ],
      "metadata": {
        "id": "B2x3EXlmmGPJ"
      }
    },
    {
      "cell_type": "code",
      "source": [
        "#Celda para funciones"
      ],
      "metadata": {
        "id": "kZudAnqBJjtr"
      },
      "execution_count": null,
      "outputs": []
    },
    {
      "cell_type": "markdown",
      "source": [
        "##Ejercicio 3: Sistema de Lorenz\n",
        "\n",
        "Consideremos el sistema de Lorenz ()\n",
        "\n",
        "\n",
        "$$ \\dot{x} = \\sigma (y-x) \\\\\n",
        "\\dot{y} = \\rho x - y - xz \\\\\n",
        "\\dot{z} = xy - \\beta z$$\n",
        "\n",
        "donde $x$, $y$ y $z$ son funciones que dependen del tiempo.\n",
        "\n",
        "a) Para valores de $\\beta=8/3$, $\\sigma=10$ y $\\rho = 25$ integre utilizando odeint por un tiempo $T=50$ usando $dt=10^{-4}$ y con condiciones iniciales $(x_0,y_0,z_0)=(0,0.5,0.5)$. Grafique $z(t)$, $y(t)$ y $z(y)$. Pruebe cambiar valores de $dt$ y compare las trayectorias de cada una de las variables.\n",
        "\n",
        "Integre usando el siguiente bloque\n",
        "\n",
        "```\n",
        "solver = scipy.integrate.ode(f).set_integrator('dopri5')\n",
        "solver.set_initial_value(x0, t=0.0)\n",
        "\n",
        "i = 0\n",
        "while solver.successful() and solver.t < tf:\n",
        "    i += 1\n",
        "    solver.integrate(solver.t + dt)\n",
        "    evolution[i,:] = solver.y\n",
        "\n",
        "```\n",
        "\n",
        "Este es un integrador de Runge-Kutta 4(5) con pasos temporales variables a partir del error local. Compare con los resultados anteriores. Grafique el caso anterior en el espacio de fases tridimensional. ¿Qué conclusiones obtiene?\n",
        "\n",
        "b) Integrando como en $c$ y usando $\\rho=30$ compare la evolución temporal de $y$ para las condiciones iniciales  $(x_0,y_0,z_0)=(0,0.5,0.5)$ y $(x^´_0,y^´_0,z^´_0)=(0,0.5,0.50001)$. ¿Qué observa?\n",
        "\n",
        "c) Resuelva numéricamente las ecuaciones de Lorenz con un método de Runge–Kutta de orden 4 (RK4) con paso fijo. Integre las ecuaciones con los mismos parámetros del inciso anterior usando la condición inicial (x0,y0,z0) = (0,0.5,0.5) con (i) el método de RK4 con pasofijo con $\\delta t= 0.005$ y (ii) con el método utilizado en el primer inciso. Compare las dos soluciones.Grafique la diferencia absoluta entre las dos soluciones en función del tiempo. ¿Qué ocurre?\n"
      ],
      "metadata": {
        "id": "uWcrit8UDJHf"
      }
    },
    {
      "cell_type": "code",
      "source": [
        "#Celdas para resolver"
      ],
      "metadata": {
        "id": "6_XfBJKhGflu"
      },
      "execution_count": null,
      "outputs": []
    },
    {
      "cell_type": "markdown",
      "source": [
        "##Ejercicio 4: Redes Neuronales Informadas por la física (PINNs)\n",
        "\n",
        "\n",
        "Las redes neuronales informadas por la física (PINN, por sus siglas en inglés) son aproximadores de funciones que permiten utilizan el conocimiento de las leyes físicas que rigen un sistema durante el proceso de aprendizaje. El empleo del conocimiento físico se utiliza como regularización durante el entrenamiento restringiendo a la red y mejorando la precisión en la aproximación de la función deseada ya que ayuda al entrenamiento haciendo más simple.\n",
        "\n",
        "\n",
        "El paper fundacional de estas es [Raissi, M., P. Perdikaris, and G. E. Karniadakis. “Physics-Informed Neural Networks: A Deep Learning Framework for Solving Forward and Inverse Problems Involving Nonlinear Partial Differential Equations.” Journal of Computational Physics 378 (February 1, 2019): 686–707.](https://doi.org/10.1016/j.jcp.2018.10.045)\n",
        "\n",
        "\n",
        "\n",
        "\n",
        "\n",
        "\n",
        "\n",
        "\n",
        "\n"
      ],
      "metadata": {
        "id": "WjHw4dUNJd6p"
      }
    },
    {
      "cell_type": "markdown",
      "source": [
        "Primero vamos a tener que construir un perceptrón multicapa (MLP por sus siglas en ingles). Un MLP es una red neuronal del tipo _feed forward_ (es decir que la información fluye en un solo sentido, desde las neuronas de entrada hacia la salida) que permiten aproximar funciones de $\\mathbb{R}^n → \\mathbb{R}^m$. Las redes neuronales _feed forward_ son la base de muchas aplicaciones comerciales como credes convolucionales para reconocimiento de imagenes.\n",
        "\n",
        "Son **redes** porque se representan a través de la composición de funciones. Si, por ejemplo, tenemos tres funciones $f$, $g$ y $h$ entonces podemos hacer la composición de ellas como $h(g(f(x)))$. En ese caso, $f$ es la primera capa, $g$ es la segunda y $h$ la tercera (siendo que es la última se conoce como neurona de salida o output layer). La cantidad de capas que tiene la red determina su *profundidad*. El término **aprendizaje profundo** (Deep learning en inglés) proviene justamente de esto.   \n",
        "\n",
        "Veamos la estructura de un MLP. Estos poseen una capa de entrada con un número arbitrario de neuronas (numeritos) que va a ser el input para nuestra red. Luego una serie de capas ocultas (la versión más simple posee una sola capa oculta) y por último una capa de salida (donde nosotros esperamos ver el resultado que queremos).\n",
        "\n",
        "\n",
        "![Dibujo sin título (1).jpg](data:image/jpeg;base64,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)"
      ],
      "metadata": {
        "id": "DnH_o5-LKiFE"
      }
    },
    {
      "cell_type": "markdown",
      "source": [
        "###Construyendo una Red\n",
        "\n",
        "Centremonos primero en entender como se construye el caso más simple, un perceptrón con una sola capa oculta (también conocido como _shallow_). La entrada a nuestra red serán vectores $x \\, \\epsilon \\, \\mathbb{R}^n$, nuestra capa oculta es $h$ y posee $k$ neuronas, y la salida queremos que sea un vector $y \\, \\epsilon \\, \\mathbb{R}^m$. En este caso, la capa de entrada y lo que se tiene en la capa oculta va a estar dada por\n",
        "\n",
        "$$ h_i (\\mathbf{x}) = \\sigma \\left( \\left( \\sum_j A_{ij} x_j\\right)  - b_i \\right).$$\n",
        "\n",
        "o equivalentemente,\n",
        "\n",
        "$$\\mathbf{h}(\\mathbf{x}) = \\sigma \\left( \\mathbf{A}  \\cdot \\mathbf{x}  - \\mathbf{b}  \\right).$$\n",
        "\n",
        "$A_{ij}$ es el peso que asignamos que conecta la entrada $x_j$ con la neurona de la capa oculta $h_i$. Entonces, como se ve en la segunda parte de la expresión, podemos construir esto como una matrix $\\mathbf{A}$. Se define $\\mathbf{b}$ como bias, este contiene el parámetro de activación $b_i$ de cada una de las neuronas. Finalmente $\\sigma$ es la función de activación de la capa oculta $h$, la cuál es aplicada lugar a lugar en el vector. De esta forma, dada una entrada $\\mathbf{x}$ define la capa oculta como $\\mathbf{h}(\\mathbf{x})$.\n",
        "\n",
        "De la misma forma en la que calculamos el valor de la capa oculta a partir de la inicial, obtenemos la salida a partir de nuestra esta última\n",
        "\n",
        "$$\\mathbf{y}(\\mathbf{x}) = \\sigma_y \\left( \\mathbf{A}_y  \\cdot \\mathbf{h}  - \\mathbf{b_y}  \\right).$$\n",
        "\n",
        "En este caso, $\\sigma_y$ puede ser una función de activación diferente y va a depender fuertemente de cuales son las cualidades de las salidas que deseamos. Nuestra red de una sola capa oculta queda definida como:\n",
        "\n",
        "$$R(\\mathbf{x}) = y \\left( h \\left( x \\right)  \\right)$$\n",
        "\n",
        "De esta manera ya construimos nuestra imagen del _MLP_ más simple que puede construirse.\n",
        "\n",
        "Las *redes neuronales* se llaman así debido a que están inspiradas en conceptos de neurociencias. Cada elemento de cada capa se asemeja a una neurona debido en el sentido de que recibe input externo y computa su propio valor de activación. La idea del apilamiento de muchas representaciones vectoriales es también una inspiración de la mencionada área.  \n",
        "\n",
        "###Apilando redes\n",
        "\n",
        "Para construir un _Perceptrón multicapa profundo_ se componen capas ocultas haciendo que una sea la entrada de la siguiente. Si nombramos $h_k$ a cada una de las capas ocultas, donde $k$ es el número de capa entonces una red con $n$ capas se construye como:\n",
        "\n",
        "$$ y = y \\left( h_n \\left( \\cdots h_k \\left( \\cdots h_2 \\left( h_1 \\left( x \\right) \\right) \\right) \\right) \\right)$$\n",
        "\n",
        "Cada una de las capas, dependiendo la dimensión de su entrada y la propia esta determinada por los pesos entre neuronas $A_{ij}^{(k)}$, los bias $b_i^{(k)}$ y la función de activación $\\sigma_k$. Todos los parámetros que componen una red (suma de los de cada una de las capas) los llamamos $\\mathbf{\\theta}$.\n",
        "\n",
        "\n",
        "\n",
        "###Entonces... ¿Qué puede hacer un MLP?\n",
        "\n",
        "El **teorema de aproximación universal** ([Hornik _et al_, 1989](https://doi.org/10.1016/0893-6080(89)90020-8); [Cybenko, 1989](https://doi.org/10.1007/BF02551274)) nos garantiza que una red feedforward como las que describimos, con una activación lineal en la capa de salida con una sola capa oculta con cualquier función que cumpla ciertas propiedades (squashing. Ej: tanh) puede aproximar cualquier función continua en un conjunto cerrado y acotado de $\\mathbb{R}^n$ (en verdad lo que dice la demostración es para una función medible de Borel de $\\mathbb{R}^n$ a $\\mathbb{R}^m$) con el error que uno quiera (si se tienen la cantidad de neuronales ocultas necesaria). Además, las derivadas de esta también puede aproximar las de la función de forma arbitrariamente buena ([Hornik, 1990](https://doi.org/10.1016/0893-6080(90)90005-6)).\n",
        "\n",
        "Cualquier red que posea mayor profundidad puede ser _al menos_ tan buena como una con una sola capa oculta. El secreto esta en que son, en efecto, aún mejores que eso. En muchas circunstancias, el uso de modelos profundos reduce la cantidad de parámetros que se requieren para representar la función y así evitar el error de generalización.\n",
        "\n",
        "Bajo estos preceptos los perceptrones multicapa pueden usarse para una variedad enorme de problemas, desde reconocimiento de caracteres hasta detección de fraudes.\n",
        "\n",
        "###Pero... ¿Cómo hacemos que aproxime?\n",
        "\n",
        "Sabemos a esta altura que nosotros queremos partir de una entrada $\\mathbf{x}$ y generar una salida $\\hat{y}$. La red es la que, dada la entrada nos va a proveer de la salida. Es decir,\n",
        "\n",
        "$$\\mathbf{x} \\xrightarrow{\\text{R}(\\mathbf{x})} \\hat{\\mathbf{y}}.$$\n",
        "\n",
        "En este proceso, propagamos hacia adelante la información a través de las capas de la red hasta tener un resultado.\n",
        "\n",
        "Nosotros partiremos de un conjunto de datos de pares $(\\mathbf{x},\\mathbf{y})$ y busca que $R(\\mathbf{x}) = \\mathbf{y}^* \\approx \\mathbf{y}$. Este es uno de los tipos más comunes de problemas, conocidos como aprendizaje supervisado. Para que aproxime la función que nosotros deseamos, debemos **entrenar** la red, es decir, adaptar todos los $\\mathbf{\\theta}$ de tal forma que se minimice una función costo $J(\\theta)$ elegida convenientemente. Para realizar esto se utiliza el algoritmo conocido como **back-propagation** ([Rumelhart _et al_](https://doi.org/10.1038/323533a0)) para calcular los gradientes. Este hace el proceso contrario, lleva la información desde el final de la red hacia el principio. El algoritmo de back propagation permite calcular derivadas de una función de forma computacionalmente eficiente.\n",
        "\n",
        "Una vez que podemos calcular el gradiente podemos obtener $\\nabla_\\theta J (\\theta)$. Con esta expresión podemos utilizar un algoritmo de minimización para llegar al mínimo de $J (\\theta)$ para nuestros datos como por ejemplo descenso por gradiente.\n",
        "\n",
        "###Funciones de costo\n",
        "\n",
        "Hasta ahora llamamos $J(\\theta)$ a la función costo que depende de todos los parámetros de nuestra red. La decisión de la función costo es una parte importante del diseño de una red neuronal. Un ejemplo de función costo que a esta altura de la formación habremos usado más de una vez es el error cuadrático, que es lo que minimizamos al hacer cuadrados mínimos. Este es un ejemplo común en el que, si los datos que tenemos son un vector $\\{ x_1, \\dots, x_n\\}$ como entradas y las respectivas salidas esperadas  $\\{ y_1, \\dots, y_n\\}$ entonces definimos nuestra función objetivo para la red $f(x;\\theta)$ como:\n",
        "\n",
        "$$ J(\\theta) = \\frac{1}{n} \\sum_i |f(x_i;\\theta)-y_i|^2 $$\n",
        "\n",
        "Las funciones que se usan para otros modelos paramétricos suelen ser buenas elecciones para redes neuronales. La función costo permite no solo generar una métrica del desempeño de nuestra red sino también provee la capacidad de regularizar las soluciones de forma que nuestras soluciones cumplan condiciones que queramos.\n",
        "\n",
        "\n",
        "Pueden ver más detalles de redes neuronales feed forward en el siguiente [capitulo del libro](https://www.deeplearningbook.org/contents/mlp.html) de Ian Goodfellow.\n",
        "\n",
        "###Pinns\n",
        "\n",
        "Supongamos que tenemos un sistema físico que está regido por una ecuación diferencial del tipo:\n",
        "\n",
        "$$u_t+\\mathcal{N}[u]=0, x \\in \\Omega, t \\in[0, T]$$\n",
        "\n",
        "Donde $u(t,x)$ es la ecuación latente que está escondida y queremos averiguar, $\\mathcal{N}[\\cdot]$ un operador diferencial no lineal, $\\Omega$ es un subconjunto de $\\mathbb{R}^d$.\n",
        "\n",
        "Supongamos que, del sistema físico que mencionamos anteriormente, tenemos datos $\\{ u(x_1, t_1 ), \\dots,  u(x_n, t_n ) \\}$ que podemos haber medido. Nuestro objetivo es aproximar $u(t)$ con una red neuronal profunda como las que describimos anteriormente usando estos datos. Este tipo de problemas son a veces conocidos como de asimilación de datos, donde queremos usar los datos experimentales para obtener la solución teórica. El problema esta en que, en muchos casos no tenemos los datos de las condiciones iniciales o el sistema completo en cierto momento, lo cual permitiría hacer una simulación o resolver la ecuación. Un buen ejemplo sería pensar en un fluido dentro de un tubo dentro del cual hay algunos lugares en los que tenemos instrumentos que permiten medir la velocidad y cada uno de ellos lo puede hacer con una cadencia distina. ¿Qué podemos hacer en este tipo de casos donde las herramientas que conocemos parecen escasas?\n",
        "\n",
        "Para resolverlo vamos a utilizar lo que vimos anteriormente de redes neuronales y el conocimiento de los teoremas de existencia y unicidad para ecuaciones diferenciales (cuyas suposiciones podemos suponer que casi cualquier sistema físico agradable cumple). La idea es usar la información que tenemos a priori de nuestra teoría para poder aproximar la solución, no solo en el tiempo que tenemos mediciones pero extendiéndola a todo el espacio, sino que también generalizarla para tiempos más largos.\n",
        "\n",
        "Para construir una PINN vamos a utilizar como función error con dos componentes. La primera de ellas es el error cuadrático medio,\n",
        "\n",
        "$$ \\text{MSE}_d = \\frac{1}{n} \\sum_i |u^*(x_i, t_i;\\theta)-u(x_i,t_i)|^2 .$$\n",
        "\n",
        "Donde $u^*(x,t;\\theta)$ es el valor que devuelve la red, dadas las entradas $x$ y $t$ con cierto conjunto de parámetros $\\theta$. Esta parte de la función objetivo tiene como objetivo que la red pase por los puntos $u(x_i,t_i)$ que conocemos como datos. A esto le sumaremos otra componente del error usando la información que sabemos de base del sistema. Sabemos que la solución debe cumplir $u_t+\\mathcal{N}[u]=0$ en todo el espacio, en particular también en un conjunto de puntos de colocación $\\{ (x_1', t_1' ), \\dots,  (x_m', t_m' ) \\}$. Eligiendo los $x'$ y $t'$ de forma tal que ocupen el espacio total en el que queremos generalizar la solución entonces definimos una segunda parte del error, el error físico como\n",
        "\n",
        "$$\\text{MSE}_f = \\sum_i |u ^*_t(x_i',t_i')+\\mathcal{N}[u^*(x_i',t_i')]|^2.$$\n",
        "\n",
        "Donde $u_t(x_i',t_i')$ se calcula a través del método de diferenciación automática de las redes neuronales. Esta segunda parte del error le pide a la red que la solución que aproxima cumpla con la ecuación diferencial en los puntos elegidos. A partir de esto, definimos la función costo total como\n",
        "\n",
        "$$ J(\\theta) = \\text{MSE}_d + \\lambda \\text{MSE}_f , $$\n",
        "\n",
        "donde $\\lambda$ es un parámetro que nos permite determinar el peso relativo que tiene la parte física con respecto al error en aproximar los datos.\n",
        "\n",
        "De esta manera, nuestro problema queda definido como uno de optimización multiobjetivo que contiene la física del problema junto con los datos que queremos asimilar para aproximar la solución.\n",
        "\n",
        "\n",
        "De esta forma, ya discutimos los principios básicos que nos permitirán crear una PINN.\n",
        "\n"
      ],
      "metadata": {
        "id": "sKxr1q8tKrhS"
      }
    },
    {
      "cell_type": "markdown",
      "source": [
        "###MLP para oscilador armónico amortiguado\n",
        "\n",
        "Primero vamos a importar todas las librerías necesarias. La que vamos a utilizar para crear y entrenar las redes neuronales es pytorch."
      ],
      "metadata": {
        "id": "pbQYMVbNOMnb"
      }
    },
    {
      "cell_type": "code",
      "source": [
        "#Importamos las librerías necesarias para esto\n",
        "import numpy as np\n",
        "import matplotlib.pyplot as plt\n",
        "import torch\n",
        "from torch.autograd import Variable\n",
        "device = torch.device(\"cuda:0\" if torch.cuda.is_available() else \"cpu\")"
      ],
      "metadata": {
        "id": "tAmoYpyaMn3N"
      },
      "execution_count": null,
      "outputs": []
    },
    {
      "cell_type": "markdown",
      "source": [
        "En la siguiente celda se encuentra la clase que permite la creación de un perceptrón multicapa de profundidad y número de neuronas en cada capa arbitraria."
      ],
      "metadata": {
        "id": "MGUJbty-Pi2T"
      }
    },
    {
      "cell_type": "code",
      "source": [
        "class MLP(torch.nn.Module):\n",
        "    \"\"\"\n",
        "    Multilayer perceptron (MLP) // Perceptríon Multicapa .\n",
        "\n",
        "    Esta clase define una red neuronal feedforward con múltiples capas ocultas\n",
        "    lineales, funciones de activación tangente hiperbólica en  las capas ocultas\n",
        "    y una salida lineal.\n",
        "\n",
        "    Args:\n",
        "        sizes (lista): Lista de enteros que especifica el número de neuronas en\n",
        "        cada capa. El primer elemento debe coincidir con la dimensión de entrada\n",
        "        y el último con la dimensión de salida.\n",
        "\n",
        "    Atributos:\n",
        "        capas (torch.nn.ModuleList): Lista que contiene las capas lineales del MLP.\n",
        "\n",
        "    Métodos:\n",
        "        forward(x): Realiza una pasada hacia adelante a través de la red MLP.\n",
        "\n",
        "    Ejemplo:\n",
        "        tamaños = [entrada_dim, oculta1_dim, oculta2_dim, salida_dim]\n",
        "        mlp = MLP(tamaños)\n",
        "        tensor_entrada = torch.tensor([...])\n",
        "        salida = mlp(tensor_entrada)\n",
        "    \"\"\"\n",
        "    def __init__(self,sizes):\n",
        "        super().__init__()\n",
        "        self.layers = torch.nn.ModuleList()\n",
        "        for i in range(len(sizes)-1):\n",
        "            self.layers.append(torch.nn.Linear(sizes[i],sizes[i+1]))\n",
        "    def forward(self,x):\n",
        "        h = x\n",
        "        for hidden in self.layers[:-1]:\n",
        "            h = torch.tanh(hidden(h))\n",
        "        output = self.layers[-1]\n",
        "        y = output(h)\n",
        "        return y"
      ],
      "metadata": {
        "id": "BkfUQv0WPsFs"
      },
      "execution_count": null,
      "outputs": []
    },
    {
      "cell_type": "markdown",
      "source": [
        "El oscilador armónico subamortiguado tiene la ecuación\n",
        "\n",
        "$$m \\ddot{x} + \\mu \\dot{x} + kx = 0,$$\n",
        "\n",
        "donde $m$ es la masa del objeto que oscila, $\\mu$ el coeficiente de amortiguamiento viscoso y $k$ es la constante del resorte.\n",
        "\n",
        "\n",
        "- Resuelva la ecuación en el caso general para condiciones iniciales $x(0) = 1$ y $\\dot{x}=0$.\n",
        "\n",
        "Sugerencia, utilice como parámetros físicos para escribir la solución $\\delta=\\frac{\\mu}{2 m}, \\omega_0=\\sqrt{\\frac{k}{m}}$. Para que sea efectivamente un oscilador subamortiguado entonces $\\delta < \\omega_0$"
      ],
      "metadata": {
        "id": "0RlZ5m4DRfSM"
      }
    },
    {
      "cell_type": "code",
      "source": [
        "(celda para completar con la resolución)"
      ],
      "metadata": {
        "id": "XX0xrUDfTCly"
      },
      "execution_count": null,
      "outputs": []
    },
    {
      "cell_type": "markdown",
      "source": [
        "- Defina $\\delta =2$ y $\\omega_0 = 18$. Arme una función llamada oscilador que tenga como entrada el tiempo $t$ y devuelva la posición de la masa para ese tiempo en base a la solución encontrada anteriormente."
      ],
      "metadata": {
        "id": "KevJipGGTJc-"
      }
    },
    {
      "cell_type": "code",
      "source": [
        "d  =\n",
        "w0 =\n",
        "\n",
        "def oscilador(d,w0,t):\n",
        "  '''\n",
        "  Entrada: tiempo, constante del resorte y coeficiente de amortiguamiento viscoso\n",
        "\n",
        "  Salida: Solución x(t) para condicion inicial x(0)=1 y dx/dt=0\n",
        "  '''\n",
        "  return"
      ],
      "metadata": {
        "id": "rvE4gKkETVlr"
      },
      "execution_count": null,
      "outputs": []
    },
    {
      "cell_type": "markdown",
      "source": [
        "- Defina los puntos que serán los datos \"medidos\" de nuestro problema. Vamos a tomar $20$ datos equiespaciados entre $t=0$ y $t=0.5$"
      ],
      "metadata": {
        "id": "24Uoo1h0T09y"
      }
    },
    {
      "cell_type": "code",
      "source": [
        "t_data    = torch.linspace( , , ).view(-1,1) #Tiempos de los datos\n",
        "y_data    = oscilador( , ,t_data).view(-1,1) #Valores de los datos 'medidos'"
      ],
      "metadata": {
        "id": "k8BCII60VO7b"
      },
      "execution_count": null,
      "outputs": []
    },
    {
      "cell_type": "markdown",
      "source": [
        "- La siguiente celda define el la red que vamos a usar y el optimizador. La red que generamos tiene entrada y salida de dimensión $1$ (por la naturaleza de nuestro problema) además de $3$ capas ocultas de $32$ neuronas cada una. Para el optimizador utilizaremos Adam. Este es un optimizador de uso comun en redes neuronales y es una extensión de el decenso por gradiente estocástico (SGD por sus siglas en inglés). Se base en el ajuste de los coeficientes de aprendizaje individuales de cada parámetro basado en los pasos previos de optimización. Los detalles pueden encontrarse en el paper [Kigma _et al_, 2015](https://doi.org/10.48550/arXiv.1412.6980)."
      ],
      "metadata": {
        "id": "YnR_ln-8Wj6x"
      }
    },
    {
      "cell_type": "code",
      "source": [
        "mlp = MLP([1,32,32,32,1])\n",
        "optimizer = torch.optim.Adam(mlp.parameters(),lr=1e-4)"
      ],
      "metadata": {
        "id": "PJB5R3VDX9kG"
      },
      "execution_count": null,
      "outputs": []
    },
    {
      "cell_type": "markdown",
      "source": [
        "Pese a que existen trabajos que permiten, en ciertos casos, acotar inferiormente el número de capas ocultas y neuronas necesarios para aproximar una función estos parámetros son muchas veces obtenidos a través de pruebas. Tanto la arquitectura que elegimos como el learning rate del optimizador que presentamos podrían ser otras. Los invitamos a probar variaciones para intentar encontrar otras arquitecturas que tengan el mínimo número de parámetros para resolver el mismo problema y ver las diferencias en el tiempo de entrenamiento en los distintos casos."
      ],
      "metadata": {
        "id": "w1MrpU9sYXx0"
      }
    },
    {
      "cell_type": "markdown",
      "source": [
        "- En la siguiente celda se encuentra el loop de entrenamiento. Este consiste en darle a la red los datos, computar el valor la función costo que elegimos usando los datos que tenemos, calcular los gradientes de todos los parámetros $\\theta$ y cambiarlos de forma conveniente para bajar el error.\n",
        "\n",
        "Al entrenar, se debe elegir el número de veces que queremos realizar este proceso y eso lo seteamos con el parámetro _iterations_."
      ],
      "metadata": {
        "id": "DdK9MqGgZFfk"
      }
    },
    {
      "cell_type": "code",
      "source": [
        "iterations = 25000\n",
        "\n",
        "for epoch in range(iterations):\n",
        "    optimizer.zero_grad()             #El optimizador tiene guardados los gradientes y esto los resetea para poder volver a calcularlos\n",
        "    yh = mlp(t_data)                  #Aplicamos la red a los datos\n",
        "    loss = torch.mean((yh-y_data)**2) #Computamos el error cuadrático medio\n",
        "    loss.backward()                   #Calcula los gradientes\n",
        "    optimizer.step()                  #El optimizador evoluciona los parámetros\n",
        "\n",
        "    with torch.autograd.no_grad():\n",
        "    \tprint(epoch,loss,\"Traning Loss:\",loss.data) #Imprimimos el error"
      ],
      "metadata": {
        "id": "pLImOX3oZZLt"
      },
      "execution_count": null,
      "outputs": []
    },
    {
      "cell_type": "markdown",
      "source": [
        "- En la siguiente celda, defina como puntos a evaluar nuestro mlp en el rango $t\\in[0,1]$. Elija el número de puntos que quiera."
      ],
      "metadata": {
        "id": "TL7laFsjdE2o"
      }
    },
    {
      "cell_type": "code",
      "source": [
        "t0 =  #Tiempo inicial\n",
        "tf =  #Tiempo final\n",
        "N  =  #Numero de puntos\n",
        "test_time = torch.linspace(t0,tf,N).view(-1,1).requires_grad_(True)\n",
        "y_test    = oscilador(d,w0,test_time).view(-1,1)   #Esta es la solución teórica\n",
        "yhp = mlp(test_time) #Evaluación de la red"
      ],
      "metadata": {
        "id": "8C820Lhqdo8n"
      },
      "execution_count": null,
      "outputs": []
    },
    {
      "cell_type": "markdown",
      "source": [
        "- Ahora grafique comparando los resultados de la red en el tiempo de testeo con los puntos de entrenamiento y el valor teórico. Escriba las conclusiones.\n",
        "\n",
        "Importante: Para poder graficar puede llevar los tensores de torch a numpy. Para eso utilice\n",
        "\n",
        "```\n",
        "tensor.detach().numpy()\n",
        "```"
      ],
      "metadata": {
        "id": "X1DnmrBje351"
      }
    },
    {
      "cell_type": "markdown",
      "source": [
        "Celda para texto"
      ],
      "metadata": {
        "id": "uWhJFSKzgfcU"
      }
    },
    {
      "cell_type": "markdown",
      "source": [
        "###PINN para oscilador armónico armortiguado\n",
        "\n",
        "Defina la red (llamela pinn) y el optimizador igual que anteriormente. Utilizaremos los mismos datos de entrenamiento que antes por lo que no es necesario redefinirlos."
      ],
      "metadata": {
        "id": "3uG3cthhgrsa"
      }
    },
    {
      "cell_type": "markdown",
      "source": [
        "- Igual que antes, los datos de entrenamiento se encuentran en $t\\in [0,0.5]$. Defina $30$ nuevos tiempos $t_{physics}$, equiespaciados en el intervalo $[0,1]$. Estas serán las colocaciones donde evaluaremos la función costo que tiene en cuenta la física."
      ],
      "metadata": {
        "id": "5qrKSV7xjGO0"
      }
    },
    {
      "cell_type": "code",
      "source": [
        "t_physics = #Use como molde la definición de los tiempos de antes"
      ],
      "metadata": {
        "id": "_gewaxbIgys6"
      },
      "execution_count": null,
      "outputs": []
    },
    {
      "cell_type": "markdown",
      "source": [
        "La siguiente celda tiene el loop de entrenamiento para la PINN en el caso particular.\n",
        "\n",
        "Se define $\\lambda$ al comienzo como $10^{-4}$, recordemos que es el parámetro que da el peso relativo entre la parte de la función error que tiene en cuenta la física y la que tiene en cuenta los datos.\n",
        "\n",
        "Hay una sección del código que contiene la sintaxis para computar las derivadas de la red. Complete la variable _physics_ con la ecuación diferencial, cuyo valor cuadrático medio es $\\text{MSE}_f$."
      ],
      "metadata": {
        "id": "qcIjkfOakmjy"
      }
    },
    {
      "cell_type": "code",
      "source": [
        "iterations = 15000\n",
        "l = 1e-4  #Lambda\n",
        "\n",
        "for epoch in range(iterations):\n",
        "    optimizer.zero_grad()\n",
        "    yh = pinn(t_data)\n",
        "    loss1 = torch.mean((yh-y_data)**2)\n",
        "    yhp = pinn(t_physics)\n",
        "    #Computo de derivada\n",
        "    dx  = torch.autograd.grad(yhp, t_physics, torch.ones_like(yhp), create_graph=True)[0]# computamos dy/dx\n",
        "    dx2 = torch.autograd.grad(dx,  t_physics, torch.ones_like(dx),  create_graph=True)[0]# computamos d^2y/dx^2\n",
        "    physics =                        #Complete con la ecuación diferencial\n",
        "    loss2 = l*torch.mean(physics**2) #Calculo el error cuadrático medio para la física\n",
        "\n",
        "    loss = loss1 + loss2 #Se suma el error de la física con el de los datos\n",
        "    loss.backward()\n",
        "    optimizer.step()\n",
        "\n",
        "    with torch.autograd.no_grad():\n",
        "    \tprint(epoch,loss1, loss2,\"Traning Loss:\",loss.data)"
      ],
      "metadata": {
        "id": "mBrgFv33kuNY"
      },
      "execution_count": null,
      "outputs": []
    },
    {
      "cell_type": "markdown",
      "source": [
        "- Grafique comparando los resultados de la red en el tiempo de testeo con los puntos de entrenamiento, las colocaciones para la física y el valor teórico. Escriba las conclusiones. Hagalo para distintos tiempos de entrenamiento y saque conclusiones del efecto del entrenamiento.\n",
        "- Grafique también la derivada y compárela, ¿Que concluiones obtiene?\n",
        "- Realice estos puntos entrenamientos más cortos y escriba sus conclusiones."
      ],
      "metadata": {
        "id": "jo6c3Wi1l4ht"
      }
    },
    {
      "cell_type": "markdown",
      "source": [
        "###Pinn para Lorenz\n",
        "\n",
        "Utilizando el conocimiento obtenido en los ejemplos anteriores, escriba una pinn que tenga como input el tiempo $t$ y devuelva un vector de tres variables que sean $x$, $y$ y $z$. Para generar los datos integre numéricamente usando la librería de scipy como en el ejercicio anterior. Use $\\beta=8/3$, $\\sigma=10$ y $\\rho = 25$, entrene por un tiempo $t=25$ y evalue hasta $t=50$. Use como condiciones iniciales $(x_0,y_0,z_0)=(-5.9,-6.7,20)$ y un $dt=1e-3$.\n",
        "\n",
        "La arquitectura sugerida es de $8$ capas ocultas de $128$ neuronas en cada una manteniendo el resto de los parámetros. En la siguiente celda se encuentra una adaptación de la clase MLP con funciones de activación que darán mejores resultados, usela. Los tiempos de entrenamiento para esta red se espera que sea mucho mas largos, pruebe al menos usar $60.000$ pasos.\n",
        "\n",
        "Sugerencia: Use $\\lambda = 1 \\times 10^{-5}$ (para empezar a probar) use el siguiente bloque de código como ayuda para el entrenamiento:\n",
        "\n",
        "\n",
        "\n",
        "```\n",
        "yhp = pinn(t_physics)\n",
        "u = yhp[:,0]\n",
        "v = yhp[:,1]\n",
        "w = yhp[:,2]\n",
        "dx  = torch.autograd.grad(yhp, t_physics, torch.ones_like(yhp), create_graph=True)[0]\n",
        "physics = dx - sigma*(v-u) - rho*u + v + u*w - u*v - beta*w  # Residual de la ecuación diferencial\n",
        "loss2 = l*torch.mean(physics**2)\n",
        "```\n",
        "\n",
        "Intente resolver el problema lo mejor posible y reporte sus conclusiones.\n",
        "\n",
        "IMPORTANTE: Este ejercicio es exploratorio y lo más importante se encuentra en el proceso y las conclusiones que obtengan no en que el resultado sea el mejor.\n"
      ],
      "metadata": {
        "id": "yXnc8JWQmWgm"
      }
    },
    {
      "cell_type": "code",
      "source": [
        "class MLP(torch.nn.Module):\n",
        "    \"\"\"\n",
        "    Multilayer perceptron (MLP) // Perceptríon Multicapa .\n",
        "\n",
        "    Esta clase define una red neuronal feedforward con múltiples capas ocultas\n",
        "    lineales, funciones de activación sinusoidales en  las capas ocultas\n",
        "    y una salida lineal.\n",
        "\n",
        "    Args:\n",
        "        sizes (lista): Lista de enteros que especifica el número de neuronas en\n",
        "        cada capa. El primer elemento debe coincidir con la dimensión de entrada\n",
        "        y el último con la dimensión de salida.\n",
        "\n",
        "    Atributos:\n",
        "        capas (torch.nn.ModuleList): Lista que contiene las capas lineales del MLP.\n",
        "\n",
        "    Métodos:\n",
        "        forward(x): Realiza una pasada hacia adelante a través de la red MLP.\n",
        "\n",
        "    Ejemplo:\n",
        "        tamaños = [entrada_dim, oculta1_dim, oculta2_dim, salida_dim]\n",
        "        mlp = MLP(tamaños)\n",
        "        tensor_entrada = torch.tensor([...])\n",
        "        salida = mlp(tensor_entrada)\n",
        "    \"\"\"\n",
        "    def __init__(self,sizes):\n",
        "        super().__init__()\n",
        "        self.layers = torch.nn.ModuleList()\n",
        "        for i in range(len(sizes)-1):\n",
        "            self.layers.append(torch.nn.Linear(sizes[i],sizes[i+1]))\n",
        "    def forward(self,x):\n",
        "        h = x\n",
        "        for hidden in self.layers[:-1]:\n",
        "            h = torch.sin(hidden(h))\n",
        "        output = self.layers[-1]\n",
        "        y = output(h)\n",
        "        return y"
      ],
      "metadata": {
        "id": "ELVyMhctnNzB"
      },
      "execution_count": null,
      "outputs": []
    }
  ]
}